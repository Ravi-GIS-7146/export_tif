{
 "cells": [
  {
   "cell_type": "code",
   "execution_count": 15,
   "id": "365e6e4c",
   "metadata": {},
   "outputs": [],
   "source": [
    "import geemap\n",
    "import os\n",
    "import json\n",
    "import requests\n",
    "from geemap import geojson_to_ee, ee_to_geojson\n",
    "from ipyleaflet import GeoJSON, Marker, MarkerCluster "
   ]
  },
  {
   "cell_type": "code",
   "execution_count": 16,
   "id": "de3a227c",
   "metadata": {},
   "outputs": [
    {
     "data": {
      "application/vnd.jupyter.widget-view+json": {
       "model_id": "3f797d30851c4f0190704da81c21919c",
       "version_major": 2,
       "version_minor": 0
      },
      "text/plain": [
       "Map(center=[20, 0], controls=(WidgetControl(options=['position', 'transparent_bg'], widget=HBox(children=(Togg…"
      ]
     },
     "metadata": {},
     "output_type": "display_data"
    }
   ],
   "source": [
    "Map= geemap.Map()\n",
    "#Map.add_basemap('TERRAIN')\n",
    "Map.basemap_demo()\n",
    "Map"
   ]
  },
  {
   "cell_type": "code",
   "execution_count": 17,
   "id": "06369029",
   "metadata": {},
   "outputs": [],
   "source": [
    "import ee\n",
    "image = ee.Image('LE7_TOA_5YEAR/1999_2003')\n",
    "\n",
    "landsat_vis = {\n",
    "    'bands': ['B4', 'B3', 'B2'], \n",
    "    'gamma': 1.4\n",
    "}\n",
    "Map.addLayer(image, landsat_vis, \"LE7_TOA_5YEAR/1999_2003\", True, 0.7)\n"
   ]
  },
  {
   "cell_type": "code",
   "execution_count": 18,
   "id": "79660dc8",
   "metadata": {},
   "outputs": [],
   "source": [
    "\n",
    "feature = Map.draw_last_feature"
   ]
  },
  {
   "cell_type": "code",
   "execution_count": 19,
   "id": "009aad74",
   "metadata": {},
   "outputs": [],
   "source": [
    "feature = ee.Feature(geom, {})"
   ]
  },
  {
   "cell_type": "code",
   "execution_count": 20,
   "id": "b417e05f",
   "metadata": {},
   "outputs": [],
   "source": [
    "roi = feature.geometry()"
   ]
  },
  {
   "cell_type": "code",
   "execution_count": 21,
   "id": "571b1ca2",
   "metadata": {},
   "outputs": [],
   "source": [
    "out_dir = os.path.join(os.path.expanduser('~'), 'Downloads')\n",
    "filename = os.path.join(out_dir, 'landsat.tif')"
   ]
  },
  {
   "cell_type": "code",
   "execution_count": 22,
   "id": "24902178",
   "metadata": {},
   "outputs": [
    {
     "name": "stdout",
     "output_type": "stream",
     "text": [
      "Generating URL ...\n",
      "Downloading data from https://earthengine.googleapis.com/v1alpha/projects/earthengine-legacy/thumbnails/aab033c3608c8b2b42dcd81b73d7b1e2-60a5f7298a6b663bb39fd2a7e4445a1f:getPixels\n",
      "Please wait ...\n",
      "Data downloaded to C:\\Users\\Amit Kumar\\Downloads\\landsat.tif\n"
     ]
    }
   ],
   "source": [
    "image = image.clip(roi).unmask()\n",
    "geemap.ee_export_image(image, filename=filename, scale=90, region=roi, file_per_band=False)"
   ]
  },
  {
   "cell_type": "code",
   "execution_count": 23,
   "id": "6e2ff3b2",
   "metadata": {},
   "outputs": [
    {
     "name": "stdout",
     "output_type": "stream",
     "text": [
      "Generating URL ...\n",
      "Downloading data from https://earthengine.googleapis.com/v1alpha/projects/earthengine-legacy/thumbnails/d58ba3f7e16b496219a4ad624b919d97-ceaea1fa3bfd45e0512a98a2a73bfae2:getPixels\n",
      "Please wait ...\n",
      "Data downloaded to C:\\Users\\Amit Kumar\\Downloads\n"
     ]
    }
   ],
   "source": [
    "geemap.ee_export_image(image, filename=filename, scale=90, region=roi, file_per_band=True)"
   ]
  },
  {
   "cell_type": "code",
   "execution_count": null,
   "id": "6800f0e8",
   "metadata": {},
   "outputs": [],
   "source": []
  }
 ],
 "metadata": {
  "kernelspec": {
   "display_name": "Python 3 (ipykernel)",
   "language": "python",
   "name": "python3"
  },
  "language_info": {
   "codemirror_mode": {
    "name": "ipython",
    "version": 3
   },
   "file_extension": ".py",
   "mimetype": "text/x-python",
   "name": "python",
   "nbconvert_exporter": "python",
   "pygments_lexer": "ipython3",
   "version": "3.9.7"
  }
 },
 "nbformat": 4,
 "nbformat_minor": 5
}
